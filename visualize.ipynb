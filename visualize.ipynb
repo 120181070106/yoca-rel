{
 "cells": [
  {
   "cell_type": "code",
   "execution_count": 1,
   "id": "f036af7d-39c7-492b-a96d-b0d95df82b58",
   "metadata": {},
   "outputs": [
    {
     "name": "stdout",
     "output_type": "stream",
     "text": [
      "[tensor([3.2500, 3.2500, 4.5000, 4.5000]), tensor([ 6.,  9.,  7., 10.]), tensor([ 1.2500, -1.7500,  2.7500, -0.2500])]\n"
     ]
    },
    {
     "data": {
      "image/png": "[encoded data removed]",
      "text/plain": [
       "<Figure size 432x288 with 1 Axes>"
      ]
     },
     "metadata": {
      "needs_background": "light"
     },
     "output_type": "display_data"
    }
   ],
   "source": [
    "import torch\n",
    "import matplotlib.pyplot as plt\n",
    "from utils.utils_bbox import 关框生成\n",
    "boxes = torch.tensor([[2.5,1.5,4,3],[4,5,5,6],[5,7,6,8]])\n",
    "# boxes = torch.tensor([[2.5,1.5,4,3],[4+2,5+2,5+2,6+2],[5,7,6,8]])\n",
    "# boxes = torch.tensor([[1,3,2,4],[3,1,4,2],[4,2,5,3]])\n",
    "# boxes = torch.tensor([[1-2,3-1,2-2,4-1],[3,1,4,2],[4,2,5,3]])\n",
    "# boxes=torch.tensor([[-5-5,-5-5,-3-5,-3-5],[3,9,5,11],[4,4,9,9]])\n",
    "# boxes=torch.tensor([[-5,-5,-3,-3],[3,9,5,11],[4,4,9,9]])\n",
    "# boxes=torch.tensor([[-5+5,-5+5,-3+5,-3+5],[3,9,5,11],[4,4,9,9]])\n",
    "# boxes=torch.tensor([[-5+7,-5+7,-3+7,-3+7],[3,9,5,11],[4,4,9,9]])\n",
    "# boxes=torch.tensor([[-5+8,-5+8,-3+8,-3+8],[3,9,5,11],[4,4,9,9]])\n",
    "# boxes=torch.tensor([[-5,-5,-3,-3],[3,9,5,11]])\n",
    "新框集 = 关框生成(boxes.float(),[])\n",
    "print(新框集)\n",
    "for box in boxes: # 绘制原框集\n",
    "    plt.plot([box[0], box[2], box[2], box[0], box[0]], [box[1], box[1], box[3], box[3], box[1]], 'b-', linewidth=3)\n",
    "for box in 新框集: # 绘制新框集\n",
    "    plt.plot([box[0], box[2], box[2], box[0], box[0]], [box[1], box[1], box[3], box[3], box[1]], 'r-', linewidth=1)\n",
    "plt.xlabel('X')\n",
    "plt.ylabel('Y')\n",
    "plt.title('Boxes')\n",
    "plt.gca().set_aspect('equal', adjustable='box')\n",
    "plt.grid(True)\n",
    "plt.show()"
   ]
  }
 ],
 "metadata": {
  "kernelspec": {
   "display_name": "Python 3 (ipykernel)",
   "language": "python",
   "name": "python3"
  },
  "language_info": {
   "codemirror_mode": {
    "name": "ipython",
    "version": 3
   },
   "file_extension": ".py",
   "mimetype": "text/x-python",
   "name": "python",
   "nbconvert_exporter": "python",
   "pygments_lexer": "ipython3",
   "version": "3.8.10"
  }
 },
 "nbformat": 4,
 "nbformat_minor": 5
}
